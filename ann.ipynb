{
 "cells": [
  {
   "cell_type": "code",
   "execution_count": 1,
   "id": "4190b724",
   "metadata": {},
   "outputs": [],
   "source": [
    "import pandas as pd\n",
    "from sklearn.model_selection import train_test_split\n",
    "from sklearn.impute import SimpleImputer\n",
    "from sklearn.preprocessing import OneHotEncoder, StandardScaler\n",
    "from sklearn.compose import ColumnTransformer\n",
    "from sklearn.pipeline import Pipeline\n",
    "\n"
   ]
  },
  {
   "cell_type": "code",
   "execution_count": 2,
   "id": "708cbad0",
   "metadata": {},
   "outputs": [],
   "source": [
    "# Load dataset\n",
    "df = pd.read_csv(\"Loan_Default.csv\")\n",
    "\n",
    "# Drop unnecessary columns\n",
    "df.drop(columns=['ID', 'year'], inplace=True)\n",
    "\n",
    "# Split features and target\n",
    "X = df.drop(columns=['Status'])\n",
    "y = df['Status']\n"
   ]
  },
  {
   "cell_type": "code",
   "execution_count": 3,
   "id": "4505b880",
   "metadata": {},
   "outputs": [
    {
     "name": "stdout",
     "output_type": "stream",
     "text": [
      "<class 'pandas.core.frame.DataFrame'>\n",
      "RangeIndex: 148670 entries, 0 to 148669\n",
      "Data columns (total 32 columns):\n",
      " #   Column                     Non-Null Count   Dtype  \n",
      "---  ------                     --------------   -----  \n",
      " 0   loan_limit                 145326 non-null  object \n",
      " 1   Gender                     148670 non-null  object \n",
      " 2   approv_in_adv              147762 non-null  object \n",
      " 3   loan_type                  148670 non-null  object \n",
      " 4   loan_purpose               148536 non-null  object \n",
      " 5   Credit_Worthiness          148670 non-null  object \n",
      " 6   open_credit                148670 non-null  object \n",
      " 7   business_or_commercial     148670 non-null  object \n",
      " 8   loan_amount                148670 non-null  int64  \n",
      " 9   rate_of_interest           112231 non-null  float64\n",
      " 10  Interest_rate_spread       112031 non-null  float64\n",
      " 11  Upfront_charges            109028 non-null  float64\n",
      " 12  term                       148629 non-null  float64\n",
      " 13  Neg_ammortization          148549 non-null  object \n",
      " 14  interest_only              148670 non-null  object \n",
      " 15  lump_sum_payment           148670 non-null  object \n",
      " 16  property_value             133572 non-null  float64\n",
      " 17  construction_type          148670 non-null  object \n",
      " 18  occupancy_type             148670 non-null  object \n",
      " 19  Secured_by                 148670 non-null  object \n",
      " 20  total_units                148670 non-null  object \n",
      " 21  income                     139520 non-null  float64\n",
      " 22  credit_type                148670 non-null  object \n",
      " 23  Credit_Score               148670 non-null  int64  \n",
      " 24  co-applicant_credit_type   148670 non-null  object \n",
      " 25  age                        148470 non-null  object \n",
      " 26  submission_of_application  148470 non-null  object \n",
      " 27  LTV                        133572 non-null  float64\n",
      " 28  Region                     148670 non-null  object \n",
      " 29  Security_Type              148670 non-null  object \n",
      " 30  Status                     148670 non-null  int64  \n",
      " 31  dtir1                      124549 non-null  float64\n",
      "dtypes: float64(8), int64(3), object(21)\n",
      "memory usage: 36.3+ MB\n"
     ]
    },
    {
     "data": {
      "text/plain": [
       "(None,\n",
       "         loan_amount  rate_of_interest  Interest_rate_spread  Upfront_charges  \\\n",
       " count  1.486700e+05     112231.000000         112031.000000    109028.000000   \n",
       " mean   3.311177e+05          4.045476              0.441656      3224.996127   \n",
       " std    1.839093e+05          0.561391              0.513043      3251.121510   \n",
       " min    1.650000e+04          0.000000             -3.638000         0.000000   \n",
       " 25%    1.965000e+05          3.625000              0.076000       581.490000   \n",
       " 50%    2.965000e+05          3.990000              0.390400      2596.450000   \n",
       " 75%    4.365000e+05          4.375000              0.775400      4812.500000   \n",
       " max    3.576500e+06          8.000000              3.357000     60000.000000   \n",
       " \n",
       "                 term  property_value         income   Credit_Score  \\\n",
       " count  148629.000000    1.335720e+05  139520.000000  148670.000000   \n",
       " mean      335.136582    4.978935e+05    6957.338876     699.789103   \n",
       " std        58.409084    3.599353e+05    6496.586382     115.875857   \n",
       " min        96.000000    8.000000e+03       0.000000     500.000000   \n",
       " 25%       360.000000    2.680000e+05    3720.000000     599.000000   \n",
       " 50%       360.000000    4.180000e+05    5760.000000     699.000000   \n",
       " 75%       360.000000    6.280000e+05    8520.000000     800.000000   \n",
       " max       360.000000    1.650800e+07  578580.000000     900.000000   \n",
       " \n",
       "                  LTV         Status          dtir1  \n",
       " count  133572.000000  148670.000000  124549.000000  \n",
       " mean       72.746457       0.246445      37.732932  \n",
       " std        39.967603       0.430942      10.545435  \n",
       " min         0.967478       0.000000       5.000000  \n",
       " 25%        60.474860       0.000000      31.000000  \n",
       " 50%        75.135870       0.000000      39.000000  \n",
       " 75%        86.184211       0.000000      45.000000  \n",
       " max      7831.250000       1.000000      61.000000  )"
      ]
     },
     "execution_count": 3,
     "metadata": {},
     "output_type": "execute_result"
    }
   ],
   "source": [
    "df.head()\n",
    "df.info() ,df.describe()"
   ]
  },
  {
   "cell_type": "code",
   "execution_count": 4,
   "id": "ceb194e9",
   "metadata": {},
   "outputs": [],
   "source": [
    "import pandas as pd\n",
    "from sklearn.model_selection import train_test_split\n",
    "from sklearn.impute import SimpleImputer\n",
    "from sklearn.preprocessing import OneHotEncoder, StandardScaler\n",
    "from sklearn.compose import ColumnTransformer\n",
    "from sklearn.pipeline import Pipeline\n",
    "from tensorflow.keras.models import Sequential\n",
    "from tensorflow.keras.layers import Dense, Dropout\n",
    "import matplotlib.pyplot as plt\n",
    "from sklearn.metrics import confusion_matrix, ConfusionMatrixDisplay\n",
    "\n"
   ]
  },
  {
   "cell_type": "code",
   "execution_count": 5,
   "id": "bb1d78ea",
   "metadata": {},
   "outputs": [],
   "source": [
    "# Load dataset\n",
    "df = pd.read_csv(\"Loan_Default.csv\")\n",
    "\n",
    "\n",
    "\n"
   ]
  },
  {
   "cell_type": "code",
   "execution_count": 6,
   "id": "731af2c1",
   "metadata": {},
   "outputs": [
    {
     "data": {
      "text/html": [
       "<div>\n",
       "<style scoped>\n",
       "    .dataframe tbody tr th:only-of-type {\n",
       "        vertical-align: middle;\n",
       "    }\n",
       "\n",
       "    .dataframe tbody tr th {\n",
       "        vertical-align: top;\n",
       "    }\n",
       "\n",
       "    .dataframe thead th {\n",
       "        text-align: right;\n",
       "    }\n",
       "</style>\n",
       "<table border=\"1\" class=\"dataframe\">\n",
       "  <thead>\n",
       "    <tr style=\"text-align: right;\">\n",
       "      <th></th>\n",
       "      <th>ID</th>\n",
       "      <th>year</th>\n",
       "      <th>loan_limit</th>\n",
       "      <th>Gender</th>\n",
       "      <th>approv_in_adv</th>\n",
       "      <th>loan_type</th>\n",
       "      <th>loan_purpose</th>\n",
       "      <th>Credit_Worthiness</th>\n",
       "      <th>open_credit</th>\n",
       "      <th>business_or_commercial</th>\n",
       "      <th>...</th>\n",
       "      <th>credit_type</th>\n",
       "      <th>Credit_Score</th>\n",
       "      <th>co-applicant_credit_type</th>\n",
       "      <th>age</th>\n",
       "      <th>submission_of_application</th>\n",
       "      <th>LTV</th>\n",
       "      <th>Region</th>\n",
       "      <th>Security_Type</th>\n",
       "      <th>Status</th>\n",
       "      <th>dtir1</th>\n",
       "    </tr>\n",
       "  </thead>\n",
       "  <tbody>\n",
       "    <tr>\n",
       "      <th>0</th>\n",
       "      <td>24890</td>\n",
       "      <td>2019</td>\n",
       "      <td>cf</td>\n",
       "      <td>Sex Not Available</td>\n",
       "      <td>nopre</td>\n",
       "      <td>type1</td>\n",
       "      <td>p1</td>\n",
       "      <td>l1</td>\n",
       "      <td>nopc</td>\n",
       "      <td>nob/c</td>\n",
       "      <td>...</td>\n",
       "      <td>EXP</td>\n",
       "      <td>758</td>\n",
       "      <td>CIB</td>\n",
       "      <td>25-34</td>\n",
       "      <td>to_inst</td>\n",
       "      <td>98.728814</td>\n",
       "      <td>south</td>\n",
       "      <td>direct</td>\n",
       "      <td>1</td>\n",
       "      <td>45.0</td>\n",
       "    </tr>\n",
       "    <tr>\n",
       "      <th>1</th>\n",
       "      <td>24891</td>\n",
       "      <td>2019</td>\n",
       "      <td>cf</td>\n",
       "      <td>Male</td>\n",
       "      <td>nopre</td>\n",
       "      <td>type2</td>\n",
       "      <td>p1</td>\n",
       "      <td>l1</td>\n",
       "      <td>nopc</td>\n",
       "      <td>b/c</td>\n",
       "      <td>...</td>\n",
       "      <td>EQUI</td>\n",
       "      <td>552</td>\n",
       "      <td>EXP</td>\n",
       "      <td>55-64</td>\n",
       "      <td>to_inst</td>\n",
       "      <td>NaN</td>\n",
       "      <td>North</td>\n",
       "      <td>direct</td>\n",
       "      <td>1</td>\n",
       "      <td>NaN</td>\n",
       "    </tr>\n",
       "    <tr>\n",
       "      <th>2</th>\n",
       "      <td>24892</td>\n",
       "      <td>2019</td>\n",
       "      <td>cf</td>\n",
       "      <td>Male</td>\n",
       "      <td>pre</td>\n",
       "      <td>type1</td>\n",
       "      <td>p1</td>\n",
       "      <td>l1</td>\n",
       "      <td>nopc</td>\n",
       "      <td>nob/c</td>\n",
       "      <td>...</td>\n",
       "      <td>EXP</td>\n",
       "      <td>834</td>\n",
       "      <td>CIB</td>\n",
       "      <td>35-44</td>\n",
       "      <td>to_inst</td>\n",
       "      <td>80.019685</td>\n",
       "      <td>south</td>\n",
       "      <td>direct</td>\n",
       "      <td>0</td>\n",
       "      <td>46.0</td>\n",
       "    </tr>\n",
       "    <tr>\n",
       "      <th>3</th>\n",
       "      <td>24893</td>\n",
       "      <td>2019</td>\n",
       "      <td>cf</td>\n",
       "      <td>Male</td>\n",
       "      <td>nopre</td>\n",
       "      <td>type1</td>\n",
       "      <td>p4</td>\n",
       "      <td>l1</td>\n",
       "      <td>nopc</td>\n",
       "      <td>nob/c</td>\n",
       "      <td>...</td>\n",
       "      <td>EXP</td>\n",
       "      <td>587</td>\n",
       "      <td>CIB</td>\n",
       "      <td>45-54</td>\n",
       "      <td>not_inst</td>\n",
       "      <td>69.376900</td>\n",
       "      <td>North</td>\n",
       "      <td>direct</td>\n",
       "      <td>0</td>\n",
       "      <td>42.0</td>\n",
       "    </tr>\n",
       "    <tr>\n",
       "      <th>4</th>\n",
       "      <td>24894</td>\n",
       "      <td>2019</td>\n",
       "      <td>cf</td>\n",
       "      <td>Joint</td>\n",
       "      <td>pre</td>\n",
       "      <td>type1</td>\n",
       "      <td>p1</td>\n",
       "      <td>l1</td>\n",
       "      <td>nopc</td>\n",
       "      <td>nob/c</td>\n",
       "      <td>...</td>\n",
       "      <td>CRIF</td>\n",
       "      <td>602</td>\n",
       "      <td>EXP</td>\n",
       "      <td>25-34</td>\n",
       "      <td>not_inst</td>\n",
       "      <td>91.886544</td>\n",
       "      <td>North</td>\n",
       "      <td>direct</td>\n",
       "      <td>0</td>\n",
       "      <td>39.0</td>\n",
       "    </tr>\n",
       "  </tbody>\n",
       "</table>\n",
       "<p>5 rows × 34 columns</p>\n",
       "</div>"
      ],
      "text/plain": [
       "      ID  year loan_limit             Gender approv_in_adv loan_type  \\\n",
       "0  24890  2019         cf  Sex Not Available         nopre     type1   \n",
       "1  24891  2019         cf               Male         nopre     type2   \n",
       "2  24892  2019         cf               Male           pre     type1   \n",
       "3  24893  2019         cf               Male         nopre     type1   \n",
       "4  24894  2019         cf              Joint           pre     type1   \n",
       "\n",
       "  loan_purpose Credit_Worthiness open_credit business_or_commercial  ...  \\\n",
       "0           p1                l1        nopc                  nob/c  ...   \n",
       "1           p1                l1        nopc                    b/c  ...   \n",
       "2           p1                l1        nopc                  nob/c  ...   \n",
       "3           p4                l1        nopc                  nob/c  ...   \n",
       "4           p1                l1        nopc                  nob/c  ...   \n",
       "\n",
       "   credit_type  Credit_Score  co-applicant_credit_type    age  \\\n",
       "0          EXP           758                       CIB  25-34   \n",
       "1         EQUI           552                       EXP  55-64   \n",
       "2          EXP           834                       CIB  35-44   \n",
       "3          EXP           587                       CIB  45-54   \n",
       "4         CRIF           602                       EXP  25-34   \n",
       "\n",
       "   submission_of_application        LTV Region Security_Type  Status dtir1  \n",
       "0                    to_inst  98.728814  south        direct       1  45.0  \n",
       "1                    to_inst        NaN  North        direct       1   NaN  \n",
       "2                    to_inst  80.019685  south        direct       0  46.0  \n",
       "3                   not_inst  69.376900  North        direct       0  42.0  \n",
       "4                   not_inst  91.886544  North        direct       0  39.0  \n",
       "\n",
       "[5 rows x 34 columns]"
      ]
     },
     "execution_count": 6,
     "metadata": {},
     "output_type": "execute_result"
    }
   ],
   "source": [
    "df.head()"
   ]
  },
  {
   "cell_type": "code",
   "execution_count": 7,
   "id": "299c6f2a",
   "metadata": {},
   "outputs": [],
   "source": [
    "X = df.drop(columns=['Status'])\n",
    "y = df['Status']\n",
    "\n"
   ]
  },
  {
   "cell_type": "code",
   "execution_count": 8,
   "id": "4eb4ffa3",
   "metadata": {},
   "outputs": [
    {
     "data": {
      "text/plain": [
       "Index(['ID', 'year', 'loan_limit', 'Gender', 'approv_in_adv', 'loan_type',\n",
       "       'loan_purpose', 'Credit_Worthiness', 'open_credit',\n",
       "       'business_or_commercial', 'loan_amount', 'rate_of_interest',\n",
       "       'Interest_rate_spread', 'Upfront_charges', 'term', 'Neg_ammortization',\n",
       "       'interest_only', 'lump_sum_payment', 'property_value',\n",
       "       'construction_type', 'occupancy_type', 'Secured_by', 'total_units',\n",
       "       'income', 'credit_type', 'Credit_Score', 'co-applicant_credit_type',\n",
       "       'age', 'submission_of_application', 'LTV', 'Region', 'Security_Type',\n",
       "       'Status', 'dtir1'],\n",
       "      dtype='object')"
      ]
     },
     "execution_count": 8,
     "metadata": {},
     "output_type": "execute_result"
    }
   ],
   "source": [
    "df.columns"
   ]
  },
  {
   "cell_type": "code",
   "execution_count": 9,
   "id": "f2860850",
   "metadata": {},
   "outputs": [],
   "source": [
    "# Split into train/test sets\n",
    "X_train, X_test, y_train, y_test = train_test_split(X, y, test_size=0.2, random_state=42, stratify=y)\n"
   ]
  },
  {
   "cell_type": "code",
   "execution_count": 10,
   "id": "fd742d49",
   "metadata": {},
   "outputs": [
    {
     "data": {
      "text/plain": [
       "((118936, 33), (29734, 33), (118936,), (29734,))"
      ]
     },
     "execution_count": 10,
     "metadata": {},
     "output_type": "execute_result"
    }
   ],
   "source": [
    "X_train.shape, X_test.shape, y_train.shape, y_test.shape"
   ]
  },
  {
   "cell_type": "code",
   "execution_count": 11,
   "id": "428b147d",
   "metadata": {},
   "outputs": [],
   "source": [
    "\n",
    "# Identify column types\n",
    "num_cols = X_train.select_dtypes(include=['float64', 'int64']).columns\n",
    "cat_cols = X_train.select_dtypes(include='object').columns\n"
   ]
  },
  {
   "cell_type": "code",
   "execution_count": 12,
   "id": "5022027c",
   "metadata": {},
   "outputs": [
    {
     "data": {
      "text/plain": [
       "(Index(['ID', 'year', 'loan_amount', 'rate_of_interest', 'Interest_rate_spread',\n",
       "        'Upfront_charges', 'term', 'property_value', 'income', 'Credit_Score',\n",
       "        'LTV', 'dtir1'],\n",
       "       dtype='object'),\n",
       " Index(['loan_limit', 'Gender', 'approv_in_adv', 'loan_type', 'loan_purpose',\n",
       "        'Credit_Worthiness', 'open_credit', 'business_or_commercial',\n",
       "        'Neg_ammortization', 'interest_only', 'lump_sum_payment',\n",
       "        'construction_type', 'occupancy_type', 'Secured_by', 'total_units',\n",
       "        'credit_type', 'co-applicant_credit_type', 'age',\n",
       "        'submission_of_application', 'Region', 'Security_Type'],\n",
       "       dtype='object'))"
      ]
     },
     "execution_count": 12,
     "metadata": {},
     "output_type": "execute_result"
    }
   ],
   "source": [
    "num_cols, cat_cols\n"
   ]
  },
  {
   "cell_type": "code",
   "execution_count": 14,
   "id": "861212a4",
   "metadata": {},
   "outputs": [],
   "source": [
    "from sklearn.preprocessing import MinMaxScaler\n",
    "\n",
    "\n",
    "# Preprocessing pipeline\n",
    "num_pipeline = Pipeline([\n",
    "    ('imputer', SimpleImputer(strategy='median')),\n",
    "    ('scaler', MinMaxScaler())\n",
    "])\n",
    "cat_pipeline = Pipeline([\n",
    "    ('imputer', SimpleImputer(strategy='most_frequent')),\n",
    "    ('encoder', OneHotEncoder(handle_unknown='ignore', sparse_output=False))\n",
    "])\n",
    "\n",
    "preprocessor = ColumnTransformer([\n",
    "    ('num', num_pipeline, num_cols),\n",
    "    ('cat', cat_pipeline, cat_cols)\n",
    "])\n"
   ]
  },
  {
   "cell_type": "code",
   "execution_count": null,
   "id": "8f0b866e",
   "metadata": {},
   "outputs": [],
   "source": [
    "\n",
    "# transformation\n",
    "X_train_preprocessed = preprocessor.fit_transform(X_train)\n",
    "X_test_preprocessed = preprocessor.transform(X_test)\n"
   ]
  },
  {
   "cell_type": "code",
   "execution_count": 16,
   "id": "9a75204a",
   "metadata": {},
   "outputs": [
    {
     "data": {
      "text/plain": [
       "(array([[0.3993166 , 0.        , 0.18318318, ..., 1.        , 0.        ,\n",
       "         1.        ],\n",
       "        [0.00707612, 0.        , 0.07207207, ..., 0.        , 0.        ,\n",
       "         1.        ],\n",
       "        [0.40131433, 0.        , 0.07807808, ..., 1.        , 0.        ,\n",
       "         1.        ],\n",
       "        ...,\n",
       "        [0.52875852, 0.        , 0.13513514, ..., 1.        , 0.        ,\n",
       "         1.        ],\n",
       "        [0.12565498, 0.        , 0.04804805, ..., 0.        , 0.        ,\n",
       "         1.        ],\n",
       "        [0.90800369, 0.        , 0.05405405, ..., 1.        , 0.        ,\n",
       "         1.        ]]),\n",
       " array([[0.94867794, 0.        , 0.05705706, ..., 1.        , 0.        ,\n",
       "         1.        ],\n",
       "        [0.81574504, 0.        , 0.13513514, ..., 0.        , 0.        ,\n",
       "         1.        ],\n",
       "        [0.07542931, 0.        , 0.09309309, ..., 0.        , 0.        ,\n",
       "         1.        ],\n",
       "        ...,\n",
       "        [0.76235126, 0.        , 0.2042042 , ..., 0.        , 0.        ,\n",
       "         1.        ],\n",
       "        [0.26351156, 0.        , 0.06606607, ..., 1.        , 0.        ,\n",
       "         1.        ],\n",
       "        [0.79586195, 0.        , 0.20720721, ..., 1.        , 0.        ,\n",
       "         1.        ]]))"
      ]
     },
     "execution_count": 16,
     "metadata": {},
     "output_type": "execute_result"
    }
   ],
   "source": [
    "X_test_preprocessed.shape, X_train_preprocessed.shape \n",
    "X_test_preprocessed, X_train_preprocessed"
   ]
  },
  {
   "cell_type": "code",
   "execution_count": null,
   "id": "98ff123e",
   "metadata": {},
   "outputs": [
    {
     "name": "stderr",
     "output_type": "stream",
     "text": [
      "c:\\Users\\HP\\miniconda3\\envs\\ml-env\\lib\\site-packages\\keras\\src\\layers\\core\\dense.py:87: UserWarning: Do not pass an `input_shape`/`input_dim` argument to a layer. When using Sequential models, prefer using an `Input(shape)` object as the first layer in the model instead.\n",
      "  super().__init__(activity_regularizer=activity_regularizer, **kwargs)\n"
     ]
    },
    {
     "name": "stdout",
     "output_type": "stream",
     "text": [
      "Epoch 1/20\n",
      "\u001b[1m1487/1487\u001b[0m \u001b[32m━━━━━━━━━━━━━━━━━━━━\u001b[0m\u001b[37m\u001b[0m \u001b[1m6s\u001b[0m 3ms/step - accuracy: 0.8367 - loss: 0.4147 - val_accuracy: 0.8657 - val_loss: 0.3479\n",
      "Epoch 2/20\n",
      "\u001b[1m1487/1487\u001b[0m \u001b[32m━━━━━━━━━━━━━━━━━━━━\u001b[0m\u001b[37m\u001b[0m \u001b[1m4s\u001b[0m 3ms/step - accuracy: 0.8666 - loss: 0.3510 - val_accuracy: 0.8666 - val_loss: 0.3359\n",
      "Epoch 3/20\n",
      "\u001b[1m1487/1487\u001b[0m \u001b[32m━━━━━━━━━━━━━━━━━━━━\u001b[0m\u001b[37m\u001b[0m \u001b[1m4s\u001b[0m 3ms/step - accuracy: 0.8698 - loss: 0.3302 - val_accuracy: 0.8767 - val_loss: 0.2888\n",
      "Epoch 4/20\n",
      "\u001b[1m1487/1487\u001b[0m \u001b[32m━━━━━━━━━━━━━━━━━━━━\u001b[0m\u001b[37m\u001b[0m \u001b[1m4s\u001b[0m 3ms/step - accuracy: 0.8798 - loss: 0.2840 - val_accuracy: 0.9002 - val_loss: 0.2310\n",
      "Epoch 5/20\n",
      "\u001b[1m1487/1487\u001b[0m \u001b[32m━━━━━━━━━━━━━━━━━━━━\u001b[0m\u001b[37m\u001b[0m \u001b[1m4s\u001b[0m 3ms/step - accuracy: 0.9016 - loss: 0.2192 - val_accuracy: 0.9331 - val_loss: 0.1392\n",
      "Epoch 6/20\n",
      "\u001b[1m1487/1487\u001b[0m \u001b[32m━━━━━━━━━━━━━━━━━━━━\u001b[0m\u001b[37m\u001b[0m \u001b[1m4s\u001b[0m 3ms/step - accuracy: 0.9302 - loss: 0.1521 - val_accuracy: 0.9497 - val_loss: 0.1129\n",
      "Epoch 7/20\n",
      "\u001b[1m1487/1487\u001b[0m \u001b[32m━━━━━━━━━━━━━━━━━━━━\u001b[0m\u001b[37m\u001b[0m \u001b[1m4s\u001b[0m 3ms/step - accuracy: 0.9372 - loss: 0.1329 - val_accuracy: 0.9596 - val_loss: 0.0973\n",
      "Epoch 8/20\n",
      "\u001b[1m1487/1487\u001b[0m \u001b[32m━━━━━━━━━━━━━━━━━━━━\u001b[0m\u001b[37m\u001b[0m \u001b[1m4s\u001b[0m 3ms/step - accuracy: 0.9420 - loss: 0.1237 - val_accuracy: 0.9678 - val_loss: 0.0846\n",
      "Epoch 9/20\n",
      "\u001b[1m1487/1487\u001b[0m \u001b[32m━━━━━━━━━━━━━━━━━━━━\u001b[0m\u001b[37m\u001b[0m \u001b[1m4s\u001b[0m 3ms/step - accuracy: 0.9452 - loss: 0.1180 - val_accuracy: 0.9489 - val_loss: 0.1133\n",
      "Epoch 10/20\n",
      "\u001b[1m1487/1487\u001b[0m \u001b[32m━━━━━━━━━━━━━━━━━━━━\u001b[0m\u001b[37m\u001b[0m \u001b[1m4s\u001b[0m 3ms/step - accuracy: 0.9443 - loss: 0.1196 - val_accuracy: 0.9686 - val_loss: 0.0817\n",
      "Epoch 11/20\n",
      "\u001b[1m1487/1487\u001b[0m \u001b[32m━━━━━━━━━━━━━━━━━━━━\u001b[0m\u001b[37m\u001b[0m \u001b[1m4s\u001b[0m 3ms/step - accuracy: 0.9535 - loss: 0.1033 - val_accuracy: 0.9765 - val_loss: 0.0705\n",
      "Epoch 12/20\n",
      "\u001b[1m1487/1487\u001b[0m \u001b[32m━━━━━━━━━━━━━━━━━━━━\u001b[0m\u001b[37m\u001b[0m \u001b[1m4s\u001b[0m 3ms/step - accuracy: 0.9446 - loss: 0.1179 - val_accuracy: 0.9769 - val_loss: 0.0673\n",
      "Epoch 13/20\n",
      "\u001b[1m1487/1487\u001b[0m \u001b[32m━━━━━━━━━━━━━━━━━━━━\u001b[0m\u001b[37m\u001b[0m \u001b[1m4s\u001b[0m 3ms/step - accuracy: 0.9491 - loss: 0.1109 - val_accuracy: 0.9707 - val_loss: 0.0731\n",
      "Epoch 14/20\n",
      "\u001b[1m1487/1487\u001b[0m \u001b[32m━━━━━━━━━━━━━━━━━━━━\u001b[0m\u001b[37m\u001b[0m \u001b[1m4s\u001b[0m 3ms/step - accuracy: 0.9525 - loss: 0.1046 - val_accuracy: 0.9817 - val_loss: 0.0573\n",
      "Epoch 15/20\n",
      "\u001b[1m1487/1487\u001b[0m \u001b[32m━━━━━━━━━━━━━━━━━━━━\u001b[0m\u001b[37m\u001b[0m \u001b[1m4s\u001b[0m 3ms/step - accuracy: 0.9573 - loss: 0.0959 - val_accuracy: 0.9672 - val_loss: 0.0788\n",
      "Epoch 16/20\n",
      "\u001b[1m1487/1487\u001b[0m \u001b[32m━━━━━━━━━━━━━━━━━━━━\u001b[0m\u001b[37m\u001b[0m \u001b[1m4s\u001b[0m 3ms/step - accuracy: 0.9504 - loss: 0.1066 - val_accuracy: 0.9749 - val_loss: 0.0667\n",
      "Epoch 17/20\n",
      "\u001b[1m1487/1487\u001b[0m \u001b[32m━━━━━━━━━━━━━━━━━━━━\u001b[0m\u001b[37m\u001b[0m \u001b[1m4s\u001b[0m 3ms/step - accuracy: 0.9559 - loss: 0.0987 - val_accuracy: 0.9770 - val_loss: 0.0668\n",
      "Epoch 18/20\n",
      "\u001b[1m1487/1487\u001b[0m \u001b[32m━━━━━━━━━━━━━━━━━━━━\u001b[0m\u001b[37m\u001b[0m \u001b[1m4s\u001b[0m 3ms/step - accuracy: 0.9537 - loss: 0.1012 - val_accuracy: 0.9793 - val_loss: 0.0650\n",
      "Epoch 19/20\n",
      "\u001b[1m1487/1487\u001b[0m \u001b[32m━━━━━━━━━━━━━━━━━━━━\u001b[0m\u001b[37m\u001b[0m \u001b[1m4s\u001b[0m 3ms/step - accuracy: 0.9596 - loss: 0.0919 - val_accuracy: 0.9612 - val_loss: 0.0844\n",
      "Epoch 20/20\n",
      "\u001b[1m1487/1487\u001b[0m \u001b[32m━━━━━━━━━━━━━━━━━━━━\u001b[0m\u001b[37m\u001b[0m \u001b[1m4s\u001b[0m 3ms/step - accuracy: 0.9571 - loss: 0.0978 - val_accuracy: 0.9707 - val_loss: 0.0776\n"
     ]
    }
   ],
   "source": [
    "# Build ANN model\n",
    "model = Sequential([\n",
    "    Dense(128, activation='relu', input_shape=(X_train_preprocessed.shape[1],)),\n",
    "    Dropout(0.3),\n",
    "    Dense(64, activation='relu'),\n",
    "    Dropout(0.3),\n",
    "    Dense(1, activation='sigmoid')\n",
    "])\n",
    "model.compile(optimizer='adam', loss='binary_crossentropy', metrics=['accuracy'])\n",
    "\n",
    "# Train model\n",
    "history = model.fit(X_train_preprocessed, y_train, epochs=20, batch_size=64, validation_split=0.2, verbose=1)\n",
    "\n"
   ]
  },
  {
   "cell_type": "code",
   "execution_count": 19,
   "id": "86b7e485",
   "metadata": {},
   "outputs": [
    {
     "name": "stdout",
     "output_type": "stream",
     "text": [
      "\u001b[1m930/930\u001b[0m \u001b[32m━━━━━━━━━━━━━━━━━━━━\u001b[0m\u001b[37m\u001b[0m \u001b[1m2s\u001b[0m 2ms/step - accuracy: 0.9722 - loss: 0.0780\n",
      "Test Accuracy: 0.9724\n"
     ]
    }
   ],
   "source": [
    "# Evaluate model\n",
    "loss, accuracy = model.evaluate(X_test_preprocessed, y_test)\n",
    "print(f\"Test Accuracy: {accuracy:.4f}\")\n"
   ]
  },
  {
   "cell_type": "code",
   "execution_count": null,
   "id": "fa302d51",
   "metadata": {},
   "outputs": [
    {
     "name": "stdout",
     "output_type": "stream",
     "text": [
      "\u001b[1m930/930\u001b[0m \u001b[32m━━━━━━━━━━━━━━━━━━━━\u001b[0m\u001b[37m\u001b[0m \u001b[1m1s\u001b[0m 1ms/step\n"
     ]
    },
    {
     "data": {
      "image/png": "[encoded data removed]",
      "text/plain": [
       "<Figure size 600x400 with 1 Axes>"
      ]
     },
     "metadata": {},
     "output_type": "display_data"
    }
   ],
   "source": [
    "# Predict\n",
    "y_pred = (model.predict(X_test_preprocessed) > 0.5).astype(int)\n",
    "\n",
    "\n",
    "plt.figure(figsize=(6, 4))\n",
    "plt.hist([y_test, y_pred.flatten()], label=[\"Actual\", \"Predicted\"], bins=[-0.5, 0.5, 1.5], align='mid', rwidth=0.8)\n",
    "plt.xticks([0, 1], ['No Default', 'Default'])\n",
    "plt.title(\"Actual vs Predicted Defaults\")\n",
    "plt.legend()\n",
    "plt.show()\n"
   ]
  },
  {
   "cell_type": "markdown",
   "id": "ff9a122c",
   "metadata": {},
   "source": [
    "\n",
    "### Default and No Default\n",
    "\n",
    " \"Default\" and \"No Default\" describe the status of a loan:\n",
    "\n",
    "- **Default**: Indicates that the borrower failed to meet the repayment obligations as per the loan agreement. This is represented by a value of `1` in the `Status` column of the dataset.\n",
    "\n",
    "- **No Default**: Indicates that the borrower successfully met the repayment obligations. This is represented by a value of `0` in the `Status` column of the dataset.\n",
    "\n",
    "These labels are used as the target variable (`y`) for training and evaluating the machine learning model to predict loan repayment behavior.\n"
   ]
  },
  {
   "cell_type": "code",
   "execution_count": 26,
   "id": "6f080387",
   "metadata": {},
   "outputs": [
    {
     "data": {
      "image/png": "[encoded data removed]",
      "text/plain": [
       "<Figure size 640x480 with 1 Axes>"
      ]
     },
     "metadata": {},
     "output_type": "display_data"
    }
   ],
   "source": [
    "cm = confusion_matrix(y_test, y_pred)\n",
    "disp = ConfusionMatrixDisplay(confusion_matrix=cm, display_labels=[\"No Default\", \"Default\"])\n",
    "disp.plot(cmap=plt.cm.Oranges, colorbar=False)\n",
    "plt.title(\"Confusion Matrix\")\n",
    "plt.show()"
   ]
  },
  {
   "cell_type": "code",
   "execution_count": null,
   "id": "3e94b6b9",
   "metadata": {},
   "outputs": [
    {
     "data": {
      "image/png": "[encoded data removed]",
      "text/plain": [
       "<Figure size 640x480 with 1 Axes>"
      ]
     },
     "metadata": {},
     "output_type": "display_data"
    }
   ],
   "source": [
    "\n",
    "plt.plot(history.history['accuracy'], label='Train Accuracy')\n",
    "plt.plot(history.history['val_accuracy'], label='Validation Accuracy')\n",
    "plt.title('Model Accuracy')\n",
    "plt.legend()\n",
    "plt.show()\n"
   ]
  }
 ],
 "metadata": {
  "kernelspec": {
   "display_name": "ml-env",
   "language": "python",
   "name": "python3"
  },
  "language_info": {
   "codemirror_mode": {
    "name": "ipython",
    "version": 3
   },
   "file_extension": ".py",
   "mimetype": "text/x-python",
   "name": "python",
   "nbconvert_exporter": "python",
   "pygments_lexer": "ipython3",
   "version": "3.10.16"
  }
 },
 "nbformat": 4,
 "nbformat_minor": 5
}
