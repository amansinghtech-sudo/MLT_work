{
 "cells": [
  {
   "cell_type": "code",
   "execution_count": 10,
   "id": "4190b724",
   "metadata": {},
   "outputs": [],
   "source": [
    "import pandas as pd\n",
    "from sklearn.model_selection import train_test_split\n",
    "from sklearn.impute import SimpleImputer\n",
    "from sklearn.preprocessing import OneHotEncoder, StandardScaler\n",
    "from sklearn.compose import ColumnTransformer\n",
    "from sklearn.pipeline import Pipeline\n",
    "\n"
   ]
  },
  {
   "cell_type": "code",
   "execution_count": 11,
   "id": "708cbad0",
   "metadata": {},
   "outputs": [],
   "source": [
    "# Load dataset\n",
    "df = pd.read_csv(\"Loan_Default.csv\")\n",
    "\n",
    "# Drop unnecessary columns\n",
    "df.drop(columns=['ID', 'year'], inplace=True)\n",
    "\n",
    "# Split features and target\n",
    "X = df.drop(columns=['Status'])\n",
    "y = df['Status']\n"
   ]
  },
  {
   "cell_type": "code",
   "execution_count": 47,
   "id": "4505b880",
   "metadata": {},
   "outputs": [
    {
     "name": "stdout",
     "output_type": "stream",
     "text": [
      "<class 'pandas.core.frame.DataFrame'>\n",
      "RangeIndex: 148670 entries, 0 to 148669\n",
      "Data columns (total 70 columns):\n",
      " #   Column                              Non-Null Count   Dtype  \n",
      "---  ------                              --------------   -----  \n",
      " 0   loan_amount                         148670 non-null  float64\n",
      " 1   rate_of_interest                    148670 non-null  float64\n",
      " 2   Interest_rate_spread                148670 non-null  float64\n",
      " 3   Upfront_charges                     148670 non-null  float64\n",
      " 4   term                                148670 non-null  float64\n",
      " 5   property_value                      148670 non-null  float64\n",
      " 6   income                              148670 non-null  float64\n",
      " 7   Credit_Score                        148670 non-null  float64\n",
      " 8   LTV                                 148670 non-null  float64\n",
      " 9   dtir1                               148670 non-null  float64\n",
      " 10  loan_limit_cf                       148670 non-null  float64\n",
      " 11  loan_limit_ncf                      148670 non-null  float64\n",
      " 12  Gender_Female                       148670 non-null  float64\n",
      " 13  Gender_Joint                        148670 non-null  float64\n",
      " 14  Gender_Male                         148670 non-null  float64\n",
      " 15  Gender_Sex Not Available            148670 non-null  float64\n",
      " 16  approv_in_adv_nopre                 148670 non-null  float64\n",
      " 17  approv_in_adv_pre                   148670 non-null  float64\n",
      " 18  loan_type_type1                     148670 non-null  float64\n",
      " 19  loan_type_type2                     148670 non-null  float64\n",
      " 20  loan_type_type3                     148670 non-null  float64\n",
      " 21  loan_purpose_p1                     148670 non-null  float64\n",
      " 22  loan_purpose_p2                     148670 non-null  float64\n",
      " 23  loan_purpose_p3                     148670 non-null  float64\n",
      " 24  loan_purpose_p4                     148670 non-null  float64\n",
      " 25  Credit_Worthiness_l1                148670 non-null  float64\n",
      " 26  Credit_Worthiness_l2                148670 non-null  float64\n",
      " 27  open_credit_nopc                    148670 non-null  float64\n",
      " 28  open_credit_opc                     148670 non-null  float64\n",
      " 29  business_or_commercial_b/c          148670 non-null  float64\n",
      " 30  business_or_commercial_nob/c        148670 non-null  float64\n",
      " 31  Neg_ammortization_neg_amm           148670 non-null  float64\n",
      " 32  Neg_ammortization_not_neg           148670 non-null  float64\n",
      " 33  interest_only_int_only              148670 non-null  float64\n",
      " 34  interest_only_not_int               148670 non-null  float64\n",
      " 35  lump_sum_payment_lpsm               148670 non-null  float64\n",
      " 36  lump_sum_payment_not_lpsm           148670 non-null  float64\n",
      " 37  construction_type_mh                148670 non-null  float64\n",
      " 38  construction_type_sb                148670 non-null  float64\n",
      " 39  occupancy_type_ir                   148670 non-null  float64\n",
      " 40  occupancy_type_pr                   148670 non-null  float64\n",
      " 41  occupancy_type_sr                   148670 non-null  float64\n",
      " 42  Secured_by_home                     148670 non-null  float64\n",
      " 43  Secured_by_land                     148670 non-null  float64\n",
      " 44  total_units_1U                      148670 non-null  float64\n",
      " 45  total_units_2U                      148670 non-null  float64\n",
      " 46  total_units_3U                      148670 non-null  float64\n",
      " 47  total_units_4U                      148670 non-null  float64\n",
      " 48  credit_type_CIB                     148670 non-null  float64\n",
      " 49  credit_type_CRIF                    148670 non-null  float64\n",
      " 50  credit_type_EQUI                    148670 non-null  float64\n",
      " 51  credit_type_EXP                     148670 non-null  float64\n",
      " 52  co-applicant_credit_type_CIB        148670 non-null  float64\n",
      " 53  co-applicant_credit_type_EXP        148670 non-null  float64\n",
      " 54  age_25-34                           148670 non-null  float64\n",
      " 55  age_35-44                           148670 non-null  float64\n",
      " 56  age_45-54                           148670 non-null  float64\n",
      " 57  age_55-64                           148670 non-null  float64\n",
      " 58  age_65-74                           148670 non-null  float64\n",
      " 59  age_<25                             148670 non-null  float64\n",
      " 60  age_>74                             148670 non-null  float64\n",
      " 61  submission_of_application_not_inst  148670 non-null  float64\n",
      " 62  submission_of_application_to_inst   148670 non-null  float64\n",
      " 63  Region_North                        148670 non-null  float64\n",
      " 64  Region_North-East                   148670 non-null  float64\n",
      " 65  Region_central                      148670 non-null  float64\n",
      " 66  Region_south                        148670 non-null  float64\n",
      " 67  Security_Type_Indriect              148670 non-null  float64\n",
      " 68  Security_Type_direct                148670 non-null  float64\n",
      " 69  Status                              148670 non-null  int64  \n",
      "dtypes: float64(69), int64(1)\n",
      "memory usage: 79.4 MB\n"
     ]
    },
    {
     "data": {
      "text/plain": [
       "(None,\n",
       "          loan_amount  rate_of_interest  Interest_rate_spread  Upfront_charges  \\\n",
       " count  148670.000000     148670.000000         148670.000000    148670.000000   \n",
       " mean        0.088376          0.503985              0.581419         0.050957   \n",
       " std         0.051660          0.061043              0.063746         0.046633   \n",
       " min         0.000000          0.000000              0.000000         0.000000   \n",
       " 25%         0.050562          0.468750              0.546033         0.020833   \n",
       " 50%         0.078652          0.498750              0.575897         0.043274   \n",
       " 75%         0.117978          0.531250              0.608721         0.064825   \n",
       " max         1.000000          1.000000              1.000000         1.000000   \n",
       " \n",
       "                 term  property_value         income   Credit_Score  \\\n",
       " count  148670.000000   148670.000000  148670.000000  148670.000000   \n",
       " mean        0.905846        0.029199       0.011897       0.499473   \n",
       " std         0.221222        0.020729       0.010889       0.289690   \n",
       " min         0.000000        0.000000       0.000000       0.000000   \n",
       " 25%         1.000000        0.016970       0.006637       0.247500   \n",
       " 50%         1.000000        0.024848       0.009955       0.497500   \n",
       " 75%         1.000000        0.035758       0.014311       0.750000   \n",
       " max         1.000000        1.000000       1.000000       1.000000   \n",
       " \n",
       "                  LTV          dtir1  ...        age_>74  \\\n",
       " count  148670.000000  148670.000000  ...  148670.000000   \n",
       " mean        0.009198       0.588188  ...       0.048261   \n",
       " std         0.004839       0.172561  ...       0.214318   \n",
       " min         0.000000       0.000000  ...       0.000000   \n",
       " 25%         0.007960       0.500000  ...       0.000000   \n",
       " 50%         0.009472       0.607143  ...       0.000000   \n",
       " 75%         0.010696       0.696429  ...       0.000000   \n",
       " max         1.000000       1.000000  ...       1.000000   \n",
       " \n",
       "        submission_of_application_not_inst  submission_of_application_to_inst  \\\n",
       " count                       148670.000000                      148670.000000   \n",
       " mean                             0.354180                           0.645820   \n",
       " std                              0.478266                           0.478266   \n",
       " min                              0.000000                           0.000000   \n",
       " 25%                              0.000000                           0.000000   \n",
       " 50%                              0.000000                           1.000000   \n",
       " 75%                              1.000000                           1.000000   \n",
       " max                              1.000000                           1.000000   \n",
       " \n",
       "         Region_North  Region_North-East  Region_central   Region_south  \\\n",
       " count  148670.000000      148670.000000   148670.000000  148670.000000   \n",
       " mean        0.502603           0.008307        0.058499       0.430591   \n",
       " std         0.499995           0.090764        0.234685       0.495161   \n",
       " min         0.000000           0.000000        0.000000       0.000000   \n",
       " 25%         0.000000           0.000000        0.000000       0.000000   \n",
       " 50%         1.000000           0.000000        0.000000       0.000000   \n",
       " 75%         1.000000           0.000000        0.000000       1.000000   \n",
       " max         1.000000           1.000000        1.000000       1.000000   \n",
       " \n",
       "        Security_Type_Indriect  Security_Type_direct         Status  \n",
       " count           148670.000000         148670.000000  148670.000000  \n",
       " mean                 0.000222              0.999778       0.246445  \n",
       " std                  0.014897              0.014897       0.430942  \n",
       " min                  0.000000              0.000000       0.000000  \n",
       " 25%                  0.000000              1.000000       0.000000  \n",
       " 50%                  0.000000              1.000000       0.000000  \n",
       " 75%                  0.000000              1.000000       0.000000  \n",
       " max                  1.000000              1.000000       1.000000  \n",
       " \n",
       " [8 rows x 70 columns])"
      ]
     },
     "execution_count": 47,
     "metadata": {},
     "output_type": "execute_result"
    }
   ],
   "source": [
    "df.head()\n",
    "df.info() ,df.describe()"
   ]
  },
  {
   "cell_type": "code",
   "execution_count": 12,
   "id": "e05d3db4",
   "metadata": {},
   "outputs": [],
   "source": [
    "# Identify column types\n",
    "num_cols = X.select_dtypes(include=['int64', 'float64']).columns\n",
    "cat_cols = X.select_dtypes(include=['object']).columns"
   ]
  },
  {
   "cell_type": "code",
   "execution_count": 13,
   "id": "ddb9d35e",
   "metadata": {},
   "outputs": [],
   "source": [
    "from sklearn.preprocessing import MinMaxScaler\n",
    "\n",
    "num_pipeline = Pipeline([\n",
    "    ('imputer', SimpleImputer(strategy='median')),\n",
    "    ('scaler', MinMaxScaler())\n",
    "])\n",
    "\n",
    "\n",
    "cat_pipeline = Pipeline([\n",
    "    ('imputer', SimpleImputer(strategy='most_frequent')),\n",
    "    ('encoder', OneHotEncoder(handle_unknown='ignore', sparse_output=False))\n",
    "])\n"
   ]
  },
  {
   "cell_type": "code",
   "execution_count": 14,
   "id": "32145972",
   "metadata": {},
   "outputs": [],
   "source": [
    "\n",
    "# Combine them\n",
    "preprocessor = ColumnTransformer([\n",
    "    ('num', num_pipeline, num_cols),\n",
    "    ('cat', cat_pipeline, cat_cols)\n",
    "])\n",
    "\n",
    "# Apply to data\n",
    "X_clean = preprocessor.fit_transform(X)"
   ]
  },
  {
   "cell_type": "code",
   "execution_count": 15,
   "id": "159ed2b6",
   "metadata": {},
   "outputs": [],
   "source": [
    "# Convert back to DataFrame if needed\n",
    "feature_names = (\n",
    "    list(preprocessor.named_transformers_['num'].get_feature_names_out(num_cols))\n",
    "    if hasattr(preprocessor.named_transformers_['num'], 'get_feature_names_out') else list(num_cols)\n",
    ")\n",
    "cat_names = preprocessor.named_transformers_['cat']['encoder'].get_feature_names_out(cat_cols)\n",
    "columns = feature_names + list(cat_names)\n",
    "\n",
    "X_clean_df = pd.DataFrame(X_clean, columns=columns)"
   ]
  },
  {
   "cell_type": "code",
   "execution_count": 16,
   "id": "6ddee270",
   "metadata": {},
   "outputs": [],
   "source": [
    "# Final clean data ready for modeling\n",
    "X_clean_df['Status'] = y.reset_index(drop=True)\n",
    "\n",
    "# Save clean data if needed\n",
    "X_clean_df.to_csv(\"Loan_Default_Cleaned.csv\", index=False)\n"
   ]
  },
  {
   "cell_type": "code",
   "execution_count": 17,
   "id": "ceb194e9",
   "metadata": {},
   "outputs": [],
   "source": [
    "import pandas as pd\n",
    "from sklearn.model_selection import train_test_split\n",
    "from sklearn.impute import SimpleImputer\n",
    "from sklearn.preprocessing import OneHotEncoder, StandardScaler\n",
    "from sklearn.compose import ColumnTransformer\n",
    "from sklearn.pipeline import Pipeline\n",
    "from tensorflow.keras.models import Sequential\n",
    "from tensorflow.keras.layers import Dense, Dropout\n",
    "import matplotlib.pyplot as plt\n",
    "from sklearn.metrics import confusion_matrix, ConfusionMatrixDisplay\n",
    "\n"
   ]
  },
  {
   "cell_type": "code",
   "execution_count": 18,
   "id": "bb1d78ea",
   "metadata": {},
   "outputs": [],
   "source": [
    "# Load dataset\n",
    "df = pd.read_csv(\"Loan_Default_Cleaned.csv\")\n",
    "\n",
    "\n",
    "\n"
   ]
  },
  {
   "cell_type": "code",
   "execution_count": 19,
   "id": "731af2c1",
   "metadata": {},
   "outputs": [
    {
     "data": {
      "text/html": [
       "<div>\n",
       "<style scoped>\n",
       "    .dataframe tbody tr th:only-of-type {\n",
       "        vertical-align: middle;\n",
       "    }\n",
       "\n",
       "    .dataframe tbody tr th {\n",
       "        vertical-align: top;\n",
       "    }\n",
       "\n",
       "    .dataframe thead th {\n",
       "        text-align: right;\n",
       "    }\n",
       "</style>\n",
       "<table border=\"1\" class=\"dataframe\">\n",
       "  <thead>\n",
       "    <tr style=\"text-align: right;\">\n",
       "      <th></th>\n",
       "      <th>loan_amount</th>\n",
       "      <th>rate_of_interest</th>\n",
       "      <th>Interest_rate_spread</th>\n",
       "      <th>Upfront_charges</th>\n",
       "      <th>term</th>\n",
       "      <th>property_value</th>\n",
       "      <th>income</th>\n",
       "      <th>Credit_Score</th>\n",
       "      <th>LTV</th>\n",
       "      <th>dtir1</th>\n",
       "      <th>...</th>\n",
       "      <th>age_&gt;74</th>\n",
       "      <th>submission_of_application_not_inst</th>\n",
       "      <th>submission_of_application_to_inst</th>\n",
       "      <th>Region_North</th>\n",
       "      <th>Region_North-East</th>\n",
       "      <th>Region_central</th>\n",
       "      <th>Region_south</th>\n",
       "      <th>Security_Type_Indriect</th>\n",
       "      <th>Security_Type_direct</th>\n",
       "      <th>Status</th>\n",
       "    </tr>\n",
       "  </thead>\n",
       "  <tbody>\n",
       "    <tr>\n",
       "      <th>0</th>\n",
       "      <td>0.028090</td>\n",
       "      <td>0.49875</td>\n",
       "      <td>0.575897</td>\n",
       "      <td>0.043274</td>\n",
       "      <td>1.0</td>\n",
       "      <td>0.006667</td>\n",
       "      <td>0.003007</td>\n",
       "      <td>0.6450</td>\n",
       "      <td>0.012485</td>\n",
       "      <td>0.714286</td>\n",
       "      <td>...</td>\n",
       "      <td>0.0</td>\n",
       "      <td>0.0</td>\n",
       "      <td>1.0</td>\n",
       "      <td>0.0</td>\n",
       "      <td>0.0</td>\n",
       "      <td>0.0</td>\n",
       "      <td>1.0</td>\n",
       "      <td>0.0</td>\n",
       "      <td>1.0</td>\n",
       "      <td>1</td>\n",
       "    </tr>\n",
       "    <tr>\n",
       "      <th>1</th>\n",
       "      <td>0.053371</td>\n",
       "      <td>0.49875</td>\n",
       "      <td>0.575897</td>\n",
       "      <td>0.043274</td>\n",
       "      <td>1.0</td>\n",
       "      <td>0.024848</td>\n",
       "      <td>0.008607</td>\n",
       "      <td>0.1300</td>\n",
       "      <td>0.009472</td>\n",
       "      <td>0.607143</td>\n",
       "      <td>...</td>\n",
       "      <td>0.0</td>\n",
       "      <td>0.0</td>\n",
       "      <td>1.0</td>\n",
       "      <td>1.0</td>\n",
       "      <td>0.0</td>\n",
       "      <td>0.0</td>\n",
       "      <td>0.0</td>\n",
       "      <td>0.0</td>\n",
       "      <td>1.0</td>\n",
       "      <td>1</td>\n",
       "    </tr>\n",
       "    <tr>\n",
       "      <th>2</th>\n",
       "      <td>0.109551</td>\n",
       "      <td>0.57000</td>\n",
       "      <td>0.548678</td>\n",
       "      <td>0.009917</td>\n",
       "      <td>1.0</td>\n",
       "      <td>0.030303</td>\n",
       "      <td>0.016385</td>\n",
       "      <td>0.8350</td>\n",
       "      <td>0.010096</td>\n",
       "      <td>0.732143</td>\n",
       "      <td>...</td>\n",
       "      <td>0.0</td>\n",
       "      <td>0.0</td>\n",
       "      <td>1.0</td>\n",
       "      <td>0.0</td>\n",
       "      <td>0.0</td>\n",
       "      <td>0.0</td>\n",
       "      <td>1.0</td>\n",
       "      <td>0.0</td>\n",
       "      <td>1.0</td>\n",
       "      <td>0</td>\n",
       "    </tr>\n",
       "    <tr>\n",
       "      <th>3</th>\n",
       "      <td>0.123596</td>\n",
       "      <td>0.53125</td>\n",
       "      <td>0.617441</td>\n",
       "      <td>0.043274</td>\n",
       "      <td>1.0</td>\n",
       "      <td>0.039394</td>\n",
       "      <td>0.020533</td>\n",
       "      <td>0.2175</td>\n",
       "      <td>0.008737</td>\n",
       "      <td>0.660714</td>\n",
       "      <td>...</td>\n",
       "      <td>0.0</td>\n",
       "      <td>1.0</td>\n",
       "      <td>0.0</td>\n",
       "      <td>1.0</td>\n",
       "      <td>0.0</td>\n",
       "      <td>0.0</td>\n",
       "      <td>0.0</td>\n",
       "      <td>0.0</td>\n",
       "      <td>1.0</td>\n",
       "      <td>0</td>\n",
       "    </tr>\n",
       "    <tr>\n",
       "      <th>4</th>\n",
       "      <td>0.191011</td>\n",
       "      <td>0.50000</td>\n",
       "      <td>0.563574</td>\n",
       "      <td>0.000000</td>\n",
       "      <td>1.0</td>\n",
       "      <td>0.045455</td>\n",
       "      <td>0.018044</td>\n",
       "      <td>0.2550</td>\n",
       "      <td>0.011611</td>\n",
       "      <td>0.607143</td>\n",
       "      <td>...</td>\n",
       "      <td>0.0</td>\n",
       "      <td>1.0</td>\n",
       "      <td>0.0</td>\n",
       "      <td>1.0</td>\n",
       "      <td>0.0</td>\n",
       "      <td>0.0</td>\n",
       "      <td>0.0</td>\n",
       "      <td>0.0</td>\n",
       "      <td>1.0</td>\n",
       "      <td>0</td>\n",
       "    </tr>\n",
       "  </tbody>\n",
       "</table>\n",
       "<p>5 rows × 70 columns</p>\n",
       "</div>"
      ],
      "text/plain": [
       "   loan_amount  rate_of_interest  Interest_rate_spread  Upfront_charges  term  \\\n",
       "0     0.028090           0.49875              0.575897         0.043274   1.0   \n",
       "1     0.053371           0.49875              0.575897         0.043274   1.0   \n",
       "2     0.109551           0.57000              0.548678         0.009917   1.0   \n",
       "3     0.123596           0.53125              0.617441         0.043274   1.0   \n",
       "4     0.191011           0.50000              0.563574         0.000000   1.0   \n",
       "\n",
       "   property_value    income  Credit_Score       LTV     dtir1  ...  age_>74  \\\n",
       "0        0.006667  0.003007        0.6450  0.012485  0.714286  ...      0.0   \n",
       "1        0.024848  0.008607        0.1300  0.009472  0.607143  ...      0.0   \n",
       "2        0.030303  0.016385        0.8350  0.010096  0.732143  ...      0.0   \n",
       "3        0.039394  0.020533        0.2175  0.008737  0.660714  ...      0.0   \n",
       "4        0.045455  0.018044        0.2550  0.011611  0.607143  ...      0.0   \n",
       "\n",
       "   submission_of_application_not_inst  submission_of_application_to_inst  \\\n",
       "0                                 0.0                                1.0   \n",
       "1                                 0.0                                1.0   \n",
       "2                                 0.0                                1.0   \n",
       "3                                 1.0                                0.0   \n",
       "4                                 1.0                                0.0   \n",
       "\n",
       "   Region_North  Region_North-East  Region_central  Region_south  \\\n",
       "0           0.0                0.0             0.0           1.0   \n",
       "1           1.0                0.0             0.0           0.0   \n",
       "2           0.0                0.0             0.0           1.0   \n",
       "3           1.0                0.0             0.0           0.0   \n",
       "4           1.0                0.0             0.0           0.0   \n",
       "\n",
       "   Security_Type_Indriect  Security_Type_direct  Status  \n",
       "0                     0.0                   1.0       1  \n",
       "1                     0.0                   1.0       1  \n",
       "2                     0.0                   1.0       0  \n",
       "3                     0.0                   1.0       0  \n",
       "4                     0.0                   1.0       0  \n",
       "\n",
       "[5 rows x 70 columns]"
      ]
     },
     "execution_count": 19,
     "metadata": {},
     "output_type": "execute_result"
    }
   ],
   "source": [
    "df.head()"
   ]
  },
  {
   "cell_type": "code",
   "execution_count": 20,
   "id": "299c6f2a",
   "metadata": {},
   "outputs": [],
   "source": [
    "X = df.drop(columns=['Status'])\n",
    "y = df['Status']\n",
    "\n"
   ]
  },
  {
   "cell_type": "code",
   "execution_count": 48,
   "id": "4eb4ffa3",
   "metadata": {},
   "outputs": [
    {
     "data": {
      "text/plain": [
       "Index(['loan_amount', 'rate_of_interest', 'Interest_rate_spread',\n",
       "       'Upfront_charges', 'term', 'property_value', 'income', 'Credit_Score',\n",
       "       'LTV', 'dtir1', 'loan_limit_cf', 'loan_limit_ncf', 'Gender_Female',\n",
       "       'Gender_Joint', 'Gender_Male', 'Gender_Sex Not Available',\n",
       "       'approv_in_adv_nopre', 'approv_in_adv_pre', 'loan_type_type1',\n",
       "       'loan_type_type2', 'loan_type_type3', 'loan_purpose_p1',\n",
       "       'loan_purpose_p2', 'loan_purpose_p3', 'loan_purpose_p4',\n",
       "       'Credit_Worthiness_l1', 'Credit_Worthiness_l2', 'open_credit_nopc',\n",
       "       'open_credit_opc', 'business_or_commercial_b/c',\n",
       "       'business_or_commercial_nob/c', 'Neg_ammortization_neg_amm',\n",
       "       'Neg_ammortization_not_neg', 'interest_only_int_only',\n",
       "       'interest_only_not_int', 'lump_sum_payment_lpsm',\n",
       "       'lump_sum_payment_not_lpsm', 'construction_type_mh',\n",
       "       'construction_type_sb', 'occupancy_type_ir', 'occupancy_type_pr',\n",
       "       'occupancy_type_sr', 'Secured_by_home', 'Secured_by_land',\n",
       "       'total_units_1U', 'total_units_2U', 'total_units_3U', 'total_units_4U',\n",
       "       'credit_type_CIB', 'credit_type_CRIF', 'credit_type_EQUI',\n",
       "       'credit_type_EXP', 'co-applicant_credit_type_CIB',\n",
       "       'co-applicant_credit_type_EXP', 'age_25-34', 'age_35-44', 'age_45-54',\n",
       "       'age_55-64', 'age_65-74', 'age_<25', 'age_>74',\n",
       "       'submission_of_application_not_inst',\n",
       "       'submission_of_application_to_inst', 'Region_North',\n",
       "       'Region_North-East', 'Region_central', 'Region_south',\n",
       "       'Security_Type_Indriect', 'Security_Type_direct', 'Status'],\n",
       "      dtype='object')"
      ]
     },
     "execution_count": 48,
     "metadata": {},
     "output_type": "execute_result"
    }
   ],
   "source": [
    "df.columns"
   ]
  },
  {
   "cell_type": "code",
   "execution_count": 21,
   "id": "f2860850",
   "metadata": {},
   "outputs": [],
   "source": [
    "# Split into train/test sets\n",
    "X_train, X_test, y_train, y_test = train_test_split(X, y, test_size=0.2, random_state=42, stratify=y)\n"
   ]
  },
  {
   "cell_type": "code",
   "execution_count": 22,
   "id": "fd742d49",
   "metadata": {},
   "outputs": [
    {
     "data": {
      "text/plain": [
       "((118936, 69), (29734, 69), (118936,), (29734,))"
      ]
     },
     "execution_count": 22,
     "metadata": {},
     "output_type": "execute_result"
    }
   ],
   "source": [
    "X_train.shape, X_test.shape, y_train.shape, y_test.shape"
   ]
  },
  {
   "cell_type": "code",
   "execution_count": 23,
   "id": "428b147d",
   "metadata": {},
   "outputs": [],
   "source": [
    "\n",
    "# Identify column types\n",
    "num_cols = X_train.select_dtypes(include=['float64', 'int64']).columns\n",
    "cat_cols = X_train.select_dtypes(include='object').columns\n"
   ]
  },
  {
   "cell_type": "code",
   "execution_count": 24,
   "id": "5022027c",
   "metadata": {},
   "outputs": [
    {
     "data": {
      "text/plain": [
       "(Index(['loan_amount', 'rate_of_interest', 'Interest_rate_spread',\n",
       "        'Upfront_charges', 'term', 'property_value', 'income', 'Credit_Score',\n",
       "        'LTV', 'dtir1', 'loan_limit_cf', 'loan_limit_ncf', 'Gender_Female',\n",
       "        'Gender_Joint', 'Gender_Male', 'Gender_Sex Not Available',\n",
       "        'approv_in_adv_nopre', 'approv_in_adv_pre', 'loan_type_type1',\n",
       "        'loan_type_type2', 'loan_type_type3', 'loan_purpose_p1',\n",
       "        'loan_purpose_p2', 'loan_purpose_p3', 'loan_purpose_p4',\n",
       "        'Credit_Worthiness_l1', 'Credit_Worthiness_l2', 'open_credit_nopc',\n",
       "        'open_credit_opc', 'business_or_commercial_b/c',\n",
       "        'business_or_commercial_nob/c', 'Neg_ammortization_neg_amm',\n",
       "        'Neg_ammortization_not_neg', 'interest_only_int_only',\n",
       "        'interest_only_not_int', 'lump_sum_payment_lpsm',\n",
       "        'lump_sum_payment_not_lpsm', 'construction_type_mh',\n",
       "        'construction_type_sb', 'occupancy_type_ir', 'occupancy_type_pr',\n",
       "        'occupancy_type_sr', 'Secured_by_home', 'Secured_by_land',\n",
       "        'total_units_1U', 'total_units_2U', 'total_units_3U', 'total_units_4U',\n",
       "        'credit_type_CIB', 'credit_type_CRIF', 'credit_type_EQUI',\n",
       "        'credit_type_EXP', 'co-applicant_credit_type_CIB',\n",
       "        'co-applicant_credit_type_EXP', 'age_25-34', 'age_35-44', 'age_45-54',\n",
       "        'age_55-64', 'age_65-74', 'age_<25', 'age_>74',\n",
       "        'submission_of_application_not_inst',\n",
       "        'submission_of_application_to_inst', 'Region_North',\n",
       "        'Region_North-East', 'Region_central', 'Region_south',\n",
       "        'Security_Type_Indriect', 'Security_Type_direct'],\n",
       "       dtype='object'),\n",
       " Index([], dtype='object'))"
      ]
     },
     "execution_count": 24,
     "metadata": {},
     "output_type": "execute_result"
    }
   ],
   "source": [
    "num_cols, cat_cols\n"
   ]
  },
  {
   "cell_type": "code",
   "execution_count": null,
   "id": "784fc2a7",
   "metadata": {},
   "outputs": [],
   "source": []
  },
  {
   "cell_type": "code",
   "execution_count": 34,
   "id": "861212a4",
   "metadata": {},
   "outputs": [],
   "source": [
    "# Preprocessing pipeline\n",
    "num_pipeline_v2 = Pipeline([\n",
    "    ('imputer', SimpleImputer(strategy='median')),\n",
    "    ('scaler', MinMaxScaler())\n",
    "])\n",
    "cat_pipeline_v2 = Pipeline([\n",
    "    ('imputer', SimpleImputer(strategy='most_frequent')),\n",
    "    ('encoder', OneHotEncoder(handle_unknown='ignore', sparse_output=False))\n",
    "])\n",
    "\n",
    "preprocessor = ColumnTransformer([\n",
    "    ('num', num_pipeline_v2, num_cols),\n",
    "    ('cat', cat_pipeline_v2, cat_cols)\n",
    "])\n"
   ]
  },
  {
   "cell_type": "code",
   "execution_count": 35,
   "id": "8f0b866e",
   "metadata": {},
   "outputs": [],
   "source": [
    "\n",
    "# Apply transformation\n",
    "X_train_preprocessed = preprocessor.fit_transform(X_train)\n",
    "X_test_preprocessed = preprocessor.transform(X_test)\n"
   ]
  },
  {
   "cell_type": "code",
   "execution_count": 36,
   "id": "9a75204a",
   "metadata": {},
   "outputs": [
    {
     "data": {
      "text/plain": [
       "(array([[0.18318318, 0.46875   , 0.51865618, ..., 1.        , 0.        ,\n",
       "         1.        ],\n",
       "        [0.07207207, 0.578125  , 0.635797  , ..., 0.        , 0.        ,\n",
       "         1.        ],\n",
       "        [0.07807808, 0.453125  , 0.54646176, ..., 1.        , 0.        ,\n",
       "         1.        ],\n",
       "        ...,\n",
       "        [0.13513514, 0.390625  , 0.42573267, ..., 1.        , 0.        ,\n",
       "         1.        ],\n",
       "        [0.04804805, 0.65625   , 0.7231737 , ..., 0.        , 0.        ,\n",
       "         1.        ],\n",
       "        [0.05405405, 0.59375   , 0.6129664 , ..., 1.        , 0.        ,\n",
       "         1.        ]], shape=(29734, 69)),\n",
       " array([[0.05705706, 0.359375  , 0.45655468, ..., 1.        , 0.        ,\n",
       "         1.        ],\n",
       "        [0.13513514, 0.53125   , 0.54724803, ..., 0.        , 0.        ,\n",
       "         1.        ],\n",
       "        [0.09309309, 0.49875   , 0.57589707, ..., 0.        , 0.        ,\n",
       "         1.        ],\n",
       "        ...,\n",
       "        [0.2042042 , 0.453125  , 0.52270193, ..., 0.        , 0.        ,\n",
       "         1.        ],\n",
       "        [0.06606607, 0.49875   , 0.57589707, ..., 1.        , 0.        ,\n",
       "         1.        ],\n",
       "        [0.20720721, 0.484375  , 0.52839171, ..., 1.        , 0.        ,\n",
       "         1.        ]], shape=(118936, 69)))"
      ]
     },
     "execution_count": 36,
     "metadata": {},
     "output_type": "execute_result"
    }
   ],
   "source": [
    "X_test_preprocessed.shape, X_train_preprocessed.shape \n",
    "X_test_preprocessed, X_train_preprocessed"
   ]
  },
  {
   "cell_type": "code",
   "execution_count": 37,
   "id": "98ff123e",
   "metadata": {},
   "outputs": [
    {
     "name": "stdout",
     "output_type": "stream",
     "text": [
      "Epoch 1/20\n"
     ]
    },
    {
     "name": "stderr",
     "output_type": "stream",
     "text": [
      "/home/aman/miniconda3/envs/pydata-book/lib/python3.12/site-packages/keras/src/layers/core/dense.py:87: UserWarning: Do not pass an `input_shape`/`input_dim` argument to a layer. When using Sequential models, prefer using an `Input(shape)` object as the first layer in the model instead.\n",
      "  super().__init__(activity_regularizer=activity_regularizer, **kwargs)\n"
     ]
    },
    {
     "name": "stdout",
     "output_type": "stream",
     "text": [
      "\u001b[1m1487/1487\u001b[0m \u001b[32m━━━━━━━━━━━━━━━━━━━━\u001b[0m\u001b[37m\u001b[0m \u001b[1m5s\u001b[0m 2ms/step - accuracy: 0.8380 - loss: 0.4123 - val_accuracy: 0.8656 - val_loss: 0.3482\n",
      "Epoch 2/20\n",
      "\u001b[1m1487/1487\u001b[0m \u001b[32m━━━━━━━━━━━━━━━━━━━━\u001b[0m\u001b[37m\u001b[0m \u001b[1m4s\u001b[0m 2ms/step - accuracy: 0.8662 - loss: 0.3498 - val_accuracy: 0.8700 - val_loss: 0.3303\n",
      "Epoch 3/20\n",
      "\u001b[1m1487/1487\u001b[0m \u001b[32m━━━━━━━━━━━━━━━━━━━━\u001b[0m\u001b[37m\u001b[0m \u001b[1m4s\u001b[0m 2ms/step - accuracy: 0.8693 - loss: 0.3295 - val_accuracy: 0.8729 - val_loss: 0.2955\n",
      "Epoch 4/20\n",
      "\u001b[1m1487/1487\u001b[0m \u001b[32m━━━━━━━━━━━━━━━━━━━━\u001b[0m\u001b[37m\u001b[0m \u001b[1m3s\u001b[0m 2ms/step - accuracy: 0.8784 - loss: 0.2901 - val_accuracy: 0.8916 - val_loss: 0.2488\n",
      "Epoch 5/20\n",
      "\u001b[1m1487/1487\u001b[0m \u001b[32m━━━━━━━━━━━━━━━━━━━━\u001b[0m\u001b[37m\u001b[0m \u001b[1m4s\u001b[0m 2ms/step - accuracy: 0.8931 - loss: 0.2374 - val_accuracy: 0.9380 - val_loss: 0.1442\n",
      "Epoch 6/20\n",
      "\u001b[1m1487/1487\u001b[0m \u001b[32m━━━━━━━━━━━━━━━━━━━━\u001b[0m\u001b[37m\u001b[0m \u001b[1m3s\u001b[0m 2ms/step - accuracy: 0.9196 - loss: 0.1676 - val_accuracy: 0.9543 - val_loss: 0.1066\n",
      "Epoch 7/20\n",
      "\u001b[1m1487/1487\u001b[0m \u001b[32m━━━━━━━━━━━━━━━━━━━━\u001b[0m\u001b[37m\u001b[0m \u001b[1m4s\u001b[0m 2ms/step - accuracy: 0.9284 - loss: 0.1470 - val_accuracy: 0.9520 - val_loss: 0.1008\n",
      "Epoch 8/20\n",
      "\u001b[1m1487/1487\u001b[0m \u001b[32m━━━━━━━━━━━━━━━━━━━━\u001b[0m\u001b[37m\u001b[0m \u001b[1m4s\u001b[0m 2ms/step - accuracy: 0.9351 - loss: 0.1354 - val_accuracy: 0.9503 - val_loss: 0.1092\n",
      "Epoch 9/20\n",
      "\u001b[1m1487/1487\u001b[0m \u001b[32m━━━━━━━━━━━━━━━━━━━━\u001b[0m\u001b[37m\u001b[0m \u001b[1m4s\u001b[0m 2ms/step - accuracy: 0.9408 - loss: 0.1231 - val_accuracy: 0.9534 - val_loss: 0.1041\n",
      "Epoch 10/20\n",
      "\u001b[1m1487/1487\u001b[0m \u001b[32m━━━━━━━━━━━━━━━━━━━━\u001b[0m\u001b[37m\u001b[0m \u001b[1m4s\u001b[0m 2ms/step - accuracy: 0.9424 - loss: 0.1203 - val_accuracy: 0.9760 - val_loss: 0.0711\n",
      "Epoch 11/20\n",
      "\u001b[1m1487/1487\u001b[0m \u001b[32m━━━━━━━━━━━━━━━━━━━━\u001b[0m\u001b[37m\u001b[0m \u001b[1m4s\u001b[0m 2ms/step - accuracy: 0.9488 - loss: 0.1133 - val_accuracy: 0.9722 - val_loss: 0.0844\n",
      "Epoch 12/20\n",
      "\u001b[1m1487/1487\u001b[0m \u001b[32m━━━━━━━━━━━━━━━━━━━━\u001b[0m\u001b[37m\u001b[0m \u001b[1m4s\u001b[0m 2ms/step - accuracy: 0.9480 - loss: 0.1103 - val_accuracy: 0.9653 - val_loss: 0.0879\n",
      "Epoch 13/20\n",
      "\u001b[1m1487/1487\u001b[0m \u001b[32m━━━━━━━━━━━━━━━━━━━━\u001b[0m\u001b[37m\u001b[0m \u001b[1m4s\u001b[0m 2ms/step - accuracy: 0.9479 - loss: 0.1092 - val_accuracy: 0.9675 - val_loss: 0.0803\n",
      "Epoch 14/20\n",
      "\u001b[1m1487/1487\u001b[0m \u001b[32m━━━━━━━━━━━━━━━━━━━━\u001b[0m\u001b[37m\u001b[0m \u001b[1m4s\u001b[0m 2ms/step - accuracy: 0.9496 - loss: 0.1068 - val_accuracy: 0.9792 - val_loss: 0.0626\n",
      "Epoch 15/20\n",
      "\u001b[1m1487/1487\u001b[0m \u001b[32m━━━━━━━━━━━━━━━━━━━━\u001b[0m\u001b[37m\u001b[0m \u001b[1m4s\u001b[0m 2ms/step - accuracy: 0.9538 - loss: 0.0992 - val_accuracy: 0.9749 - val_loss: 0.0640\n",
      "Epoch 16/20\n",
      "\u001b[1m1487/1487\u001b[0m \u001b[32m━━━━━━━━━━━━━━━━━━━━\u001b[0m\u001b[37m\u001b[0m \u001b[1m4s\u001b[0m 2ms/step - accuracy: 0.9543 - loss: 0.0999 - val_accuracy: 0.9725 - val_loss: 0.0681\n",
      "Epoch 17/20\n",
      "\u001b[1m1487/1487\u001b[0m \u001b[32m━━━━━━━━━━━━━━━━━━━━\u001b[0m\u001b[37m\u001b[0m \u001b[1m4s\u001b[0m 2ms/step - accuracy: 0.9533 - loss: 0.1001 - val_accuracy: 0.9750 - val_loss: 0.0663\n",
      "Epoch 18/20\n",
      "\u001b[1m1487/1487\u001b[0m \u001b[32m━━━━━━━━━━━━━━━━━━━━\u001b[0m\u001b[37m\u001b[0m \u001b[1m3s\u001b[0m 2ms/step - accuracy: 0.9597 - loss: 0.0907 - val_accuracy: 0.9858 - val_loss: 0.0496\n",
      "Epoch 19/20\n",
      "\u001b[1m1487/1487\u001b[0m \u001b[32m━━━━━━━━━━━━━━━━━━━━\u001b[0m\u001b[37m\u001b[0m \u001b[1m4s\u001b[0m 2ms/step - accuracy: 0.9562 - loss: 0.0976 - val_accuracy: 0.9695 - val_loss: 0.0836\n",
      "Epoch 20/20\n",
      "\u001b[1m1487/1487\u001b[0m \u001b[32m━━━━━━━━━━━━━━━━━━━━\u001b[0m\u001b[37m\u001b[0m \u001b[1m4s\u001b[0m 2ms/step - accuracy: 0.9579 - loss: 0.0965 - val_accuracy: 0.9751 - val_loss: 0.0709\n"
     ]
    }
   ],
   "source": [
    "# Build ANN model\n",
    "model = Sequential([\n",
    "    Dense(128, activation='relu', input_shape=(X_train_preprocessed.shape[1],)),\n",
    "    Dropout(0.3),\n",
    "    Dense(64, activation='relu'),\n",
    "    Dropout(0.3),\n",
    "    Dense(1, activation='sigmoid')\n",
    "])\n",
    "model.compile(optimizer='adam', loss='binary_crossentropy', metrics=['accuracy'])\n",
    "\n",
    "# Train model\n",
    "history = model.fit(X_train_preprocessed, y_train, epochs=20, batch_size=64, validation_split=0.2, verbose=1)\n",
    "\n"
   ]
  },
  {
   "cell_type": "code",
   "execution_count": 38,
   "id": "86b7e485",
   "metadata": {},
   "outputs": [
    {
     "name": "stdout",
     "output_type": "stream",
     "text": [
      "\u001b[1m930/930\u001b[0m \u001b[32m━━━━━━━━━━━━━━━━━━━━\u001b[0m\u001b[37m\u001b[0m \u001b[1m1s\u001b[0m 2ms/step - accuracy: 0.9745 - loss: 0.0733\n",
      "Test Accuracy: 0.9746\n"
     ]
    }
   ],
   "source": [
    "# Evaluate model\n",
    "loss, accuracy = model.evaluate(X_test_preprocessed, y_test)\n",
    "print(f\"Test Accuracy: {accuracy:.4f}\")\n"
   ]
  },
  {
   "cell_type": "code",
   "execution_count": 39,
   "id": "fa302d51",
   "metadata": {},
   "outputs": [
    {
     "name": "stdout",
     "output_type": "stream",
     "text": [
      "\u001b[1m930/930\u001b[0m \u001b[32m━━━━━━━━━━━━━━━━━━━━\u001b[0m\u001b[37m\u001b[0m \u001b[1m1s\u001b[0m 1ms/step\n"
     ]
    }
   ],
   "source": [
    "\n",
    "# Predict and plot\n",
    "y_pred = (model.predict(X_test_preprocessed) > 0.5).astype(int)\n"
   ]
  },
  {
   "cell_type": "code",
   "execution_count": 42,
   "id": "f022033a",
   "metadata": {},
   "outputs": [
    {
     "data": {
      "image/png": "[encoded data removed]",
      "text/plain": [
       "<Figure size 600x400 with 1 Axes>"
      ]
     },
     "metadata": {},
     "output_type": "display_data"
    }
   ],
   "source": [
    "# Plot predicted vs actual\n",
    "plt.figure(figsize=(6, 4))\n",
    "plt.hist([y_test, y_pred.flatten()], label=[\"Actual\", \"Predicted\"], bins=2, align='left')\n",
    "plt.xticks([0, 1], ['No Default', 'Default'])\n",
    "plt.title(\"Actual vs Predicted Defaults\")\n",
    "plt.legend()\n",
    "plt.show()"
   ]
  },
  {
   "cell_type": "code",
   "execution_count": 45,
   "id": "3e94b6b9",
   "metadata": {},
   "outputs": [
    {
     "data": {
      "image/png": "[encoded data removed]",
      "text/plain": [
       "<Figure size 640x480 with 1 Axes>"
      ]
     },
     "metadata": {},
     "output_type": "display_data"
    }
   ],
   "source": [
    "import matplotlib.pyplot as plt\n",
    "\n",
    "plt.plot(history.history['accuracy'], label='Train Accuracy')\n",
    "plt.plot(history.history['val_accuracy'], label='Validation Accuracy')\n",
    "plt.title('Model Accuracy')\n",
    "plt.legend()\n",
    "plt.show()\n"
   ]
  }
 ],
 "metadata": {
  "kernelspec": {
   "display_name": "pydata-book",
   "language": "python",
   "name": "python3"
  },
  "language_info": {
   "codemirror_mode": {
    "name": "ipython",
    "version": 3
   },
   "file_extension": ".py",
   "mimetype": "text/x-python",
   "name": "python",
   "nbconvert_exporter": "python",
   "pygments_lexer": "ipython3",
   "version": "3.12.9"
  }
 },
 "nbformat": 4,
 "nbformat_minor": 5
}
